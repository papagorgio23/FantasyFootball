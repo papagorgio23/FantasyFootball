{
  "nbformat": 4,
  "nbformat_minor": 0,
  "metadata": {
    "colab": {
      "name": "Fantasy Football Lineup Optimizer Complete.ipynb",
      "version": "0.3.2",
      "provenance": [],
      "collapsed_sections": [],
      "include_colab_link": true
    },
    "kernelspec": {
      "name": "python3",
      "display_name": "Python 3"
    }
  },
  "cells": [
    {
      "cell_type": "markdown",
      "metadata": {
        "id": "view-in-github",
        "colab_type": "text"
      },
      "source": [
        "<a href=\"https://colab.research.google.com/github/papagorgio23/FantasyFootball/blob/master/Fantasy_Football_Lineup_Optimizer_Complete.ipynb\" target=\"_parent\"><img src=\"https://colab.research.google.com/assets/colab-badge.svg\" alt=\"Open In Colab\"/></a>"
      ]
    },
    {
      "cell_type": "markdown",
      "metadata": {
        "id": "8bXERzLv5brx",
        "colab_type": "text"
      },
      "source": [
        "![A.I. Sports](https://raw.githubusercontent.com/papagorgio23/Python101/master/Logo.png)\n",
        "\n",
        "www.AISportsFirm.com"
      ]
    },
    {
      "cell_type": "markdown",
      "metadata": {
        "id": "dpDcEB5UYWlr",
        "colab_type": "text"
      },
      "source": [
        "# Daily Fantasy Football Lineup Optimizer"
      ]
    },
    {
      "cell_type": "markdown",
      "metadata": {
        "id": "y_ruxcA2Mk6H",
        "colab_type": "text"
      },
      "source": [
        "![Draft Kings](https://raw.githubusercontent.com/papagorgio23/Python101/master/DraftKings.png)"
      ]
    },
    {
      "cell_type": "markdown",
      "metadata": {
        "id": "Cqv4sq9EaC7b",
        "colab_type": "text"
      },
      "source": [
        "We are going to tap into the Draft Kings API to access player prices and average player scores. \n",
        "\n",
        "We are then going to use this information to create optimal lineups. \n",
        "\n",
        "*   Optimial lineup = Combination of players that will score the most points\n"
      ]
    },
    {
      "cell_type": "markdown",
      "metadata": {
        "id": "1b6GCPlkNpqk",
        "colab_type": "text"
      },
      "source": [
        "## Linear Programming (The Math)"
      ]
    },
    {
      "cell_type": "markdown",
      "metadata": {
        "id": "EVX8TdwTNraV",
        "colab_type": "text"
      },
      "source": [
        "The basic framework of linear/integer programming is as follows:\n",
        "\n",
        "\n",
        "*   There are **Decision Variables**\n",
        "    *  These will be the variables that we can select (i.e. which player to have in our lineup)\n",
        "*   There is an **Objective Function** to either Maximize or Minimize\n",
        "    * Our goal will be to Maximize our point total\n",
        "*   There are **Constraints** we must abide by\n",
        "    * Salary, Number of Players, Players at specific positions, non-negativity\n",
        "\n",
        "\n"
      ]
    },
    {
      "cell_type": "markdown",
      "metadata": {
        "id": "YUm5zPyRz3_Z",
        "colab_type": "text"
      },
      "source": [
        "## Definitions:\n",
        "\n",
        "<br>\n",
        "\n",
        "**Index Sets:**\n",
        "\n",
        "Let ***I*** be the set of positions, indexed by *i*\n",
        "\n",
        "Let ***J*** be the set of players, indexed by *j*\n",
        "\n",
        "<br>\n",
        "\n",
        "**Variables:**\n",
        "\n",
        "Let ***P*** be the projected points\n",
        "\n",
        "Let ***C*** be the cost of the player\n",
        "\n",
        "<br>\n",
        "\n",
        "**Other Variables:**\n",
        "\n",
        "Let ***n*** be the total number of positions\n",
        "\n",
        "Let ***m*** be the total number of players\n",
        "\n",
        "\n",
        "***\n",
        "\n",
        "<br>\n",
        "\n",
        "$x_{ij} = Player$\n",
        "\n",
        "<br>\n",
        "\n",
        "$P_{ij} = Points\\ Player\\ Scores$\n",
        "\n",
        "<br>\n",
        "\n",
        "$C_{ij} = Cost\\ of\\ Player$\n",
        "\n",
        "<br>\n",
        "\n",
        "***\n",
        "\n",
        "<br>\n",
        "\n",
        "\n",
        "#### implicit Form:\n",
        "\n",
        "\n",
        "$$maximize\\ \\ \\ \\ \\ \\ z = \\sum_{i=1}^n\\sum_{j=1}^m P_{ij} * x_{ij} $$\n",
        "\n",
        "<br>\n",
        "\n",
        "$$\\ \\ \\ \\ \\ \\ \\ \\ \\ \\ \\ \\ \\ \\ \\ \\ \\ \\ \\ \\ subject\\ to\\ \\ \\ \\ \\ \\sum_{i=1}^n\\sum_{j=1}^m C_{ij} * x_{ij} \\leq Max\\ Salary$$\n",
        "\n",
        "\n",
        "$$\\ \\ \\ \\ \\ \\ \\ \\ \\ \\ \\ \\ \\ \\ \\ \\ \\ \\ \\ \\ \\ \\ \\ \\ \\ \\ \\ \\ \\ \\ \\ \\sum_{j=1}^m x_{ij} =1, \\ \\ for\\ \\ i = QB$$\n",
        "\n",
        "\n",
        "$$\\ \\ \\ \\ \\ \\ \\ \\ \\ \\ \\ \\ \\ \\ \\ \\ \\ \\ \\ \\ \\ \\ \\ \\ \\ \\ \\ \\ \\ \\ \\ \\ \\sum_{j=1}^m x_{ij}  =2, \\ \\ for\\ \\ i = RB$$\n",
        "\n",
        "$$\\ \\ \\ \\ \\ \\ \\ \\ \\ \\ \\ \\ \\ \\ \\ \\ \\ \\ \\ \\ \\ \\ \\ \\ \\ \\ \\ \\ \\ \\ \\ \\ \\ \\ \\sum_{j=1}^m x_{ij} =3, \\ \\ for\\ \\ i = WR$$\n",
        "\n",
        "$$\\ \\ \\ \\ \\ \\ \\ \\ \\ \\ \\ \\ \\ \\ \\ \\ \\ \\ \\ \\ \\ \\ \\ \\ \\ \\ \\ \\ \\ \\ \\ \\ \\sum_{j=1}^m x_{ij} =1, \\ \\ for\\ \\ i = TE$$\n",
        "\n",
        "$$\\ \\ \\ \\ \\ \\ \\ \\ \\ \\ \\ \\ \\ \\ \\ \\ \\ \\ \\ \\ \\ \\ \\ \\ \\ \\ \\ \\ \\ \\ \\ \\ \\ \\ \\ \\ \\ \\ \\sum_{j=1}^m x_{ij} =1, \\ \\ for\\ \\ i = FLEX$$\n",
        "\n",
        "$$\\ \\ \\ \\ \\ \\ \\ \\ \\ \\ \\ \\ \\ \\ \\ \\ \\ \\ \\ \\ \\ \\ \\ \\ \\ \\ \\ \\ \\ \\ \\ \\ \\ \\ \\ \\sum_{j=1}^m x_{ij} =1, \\ \\ for\\ \\ i = DST$$\n",
        "\n",
        "$$\\ \\ \\ \\ \\ \\ \\ \\ \\ \\ \\ \\ \\ \\sum_{i=1}^n\\sum_{j=1}^m x_{ij} = 9$$\n",
        "\n",
        "$$\\ \\ \\ \\ \\ \\ \\ \\ \\ \\ \\ \\ \\ \\ \\ \\ x_{ij} \\geq 0,\\ \\forall \\ i,\\ j$$\n",
        "\n",
        "<br>\n",
        "\n",
        "***"
      ]
    },
    {
      "cell_type": "markdown",
      "metadata": {
        "id": "tBo36uyXgeJm",
        "colab_type": "text"
      },
      "source": [
        "## Daily Fantasy Football Rules\n",
        "\n",
        "$50,000 to spend on your lineup "
      ]
    },
    {
      "cell_type": "markdown",
      "metadata": {
        "id": "nzWQ0ckce6nq",
        "colab_type": "text"
      },
      "source": [
        "https://www.draftkings.com/help/rules/nfl"
      ]
    },
    {
      "cell_type": "markdown",
      "metadata": {
        "id": "SebT_XN4gVek",
        "colab_type": "text"
      },
      "source": [
        "![Offense](https://raw.githubusercontent.com/papagorgio23/Python101/master/DFS%20Offense%20Scoring.png)"
      ]
    },
    {
      "cell_type": "markdown",
      "metadata": {
        "id": "f47BOtlegE_1",
        "colab_type": "text"
      },
      "source": [
        "![Defense](https://raw.githubusercontent.com/papagorgio23/Python101/master/DFS%20Defense%20Scoring.png)"
      ]
    },
    {
      "cell_type": "markdown",
      "metadata": {
        "id": "VBNAb8XbO61J",
        "colab_type": "text"
      },
      "source": [
        "# Python Code"
      ]
    },
    {
      "cell_type": "markdown",
      "metadata": {
        "id": "Qy--QJ36gD-R",
        "colab_type": "text"
      },
      "source": [
        "### Load Libraries"
      ]
    },
    {
      "cell_type": "code",
      "metadata": {
        "id": "wpK8HNlyYTbg",
        "colab_type": "code",
        "outputId": "1b5bc670-8dd2-496a-9105-68cc8444b747",
        "colab": {
          "base_uri": "https://localhost:8080/",
          "height": 51
        }
      },
      "source": [
        "!pip install pulp\n",
        "\n",
        "import urllib, json\n",
        "import pandas as pd\n",
        "import re\n",
        "\n",
        "from pulp import *"
      ],
      "execution_count": 0,
      "outputs": [
        {
          "output_type": "stream",
          "text": [
            "Requirement already satisfied: pulp in /usr/local/lib/python3.6/dist-packages (1.6.10)\n",
            "Requirement already satisfied: pyparsing>=2.0.1 in /usr/local/lib/python3.6/dist-packages (from pulp) (2.4.2)\n"
          ],
          "name": "stdout"
        }
      ]
    },
    {
      "cell_type": "markdown",
      "metadata": {
        "id": "33xzJsxoYxGU",
        "colab_type": "text"
      },
      "source": [
        "## Get Data"
      ]
    },
    {
      "cell_type": "markdown",
      "metadata": {
        "id": "s3dmp07igIcf",
        "colab_type": "text"
      },
      "source": [
        "### DraftKings API\n",
        "\n",
        "DraftKings API is undocumented... (don't report it to ICE)... \n",
        "\n",
        "If we enter the correct weekID, it will return a list of player prices and scores. \n",
        "\n",
        "We will need to make a few manipulations to get it into a form that we can use for our model."
      ]
    },
    {
      "cell_type": "markdown",
      "metadata": {
        "id": "on1znsQa87an",
        "colab_type": "text"
      },
      "source": [
        "### API URL\n",
        "\n",
        "https://api.draftkings.com/draftgroups/v1/draftgroups/21727/draftables?format=json"
      ]
    },
    {
      "cell_type": "code",
      "metadata": {
        "id": "u96G-cx68UtO",
        "colab_type": "code",
        "colab": {}
      },
      "source": [
        "# Week ID\n",
        "weekID = '21727'"
      ],
      "execution_count": 0,
      "outputs": []
    },
    {
      "cell_type": "code",
      "metadata": {
        "id": "nQ8wZtVVZ8TK",
        "colab_type": "code",
        "outputId": "26b8c935-f44d-4f85-be31-3a8a8ff2abf6",
        "colab": {
          "base_uri": "https://localhost:8080/",
          "height": 34
        }
      },
      "source": [
        "# input the week ID into the rest of the url\n",
        "URL = \"https://api.draftkings.com/draftgroups/v1/draftgroups/\" + weekID + \"/draftables?format=json\"\n",
        "URL"
      ],
      "execution_count": 0,
      "outputs": [
        {
          "output_type": "execute_result",
          "data": {
            "text/plain": [
              "'https://api.draftkings.com/draftgroups/v1/draftgroups/21727/draftables?format=json'"
            ]
          },
          "metadata": {
            "tags": []
          },
          "execution_count": 5
        }
      ]
    },
    {
      "cell_type": "markdown",
      "metadata": {
        "id": "is6wlT7R89TM",
        "colab_type": "text"
      },
      "source": [
        "### Get Data"
      ]
    },
    {
      "cell_type": "code",
      "metadata": {
        "id": "KYP9Sgv0aMw2",
        "colab_type": "code",
        "colab": {}
      },
      "source": [
        "# connect to API\n",
        "response = urllib.request.urlopen(URL)\n",
        "\n",
        "# extract data\n",
        "data = json.loads(response.read())\n"
      ],
      "execution_count": 0,
      "outputs": []
    },
    {
      "cell_type": "code",
      "metadata": {
        "id": "ubaqdYZdU9rY",
        "colab_type": "code",
        "colab": {}
      },
      "source": [
        "# put it into a dataframe\n",
        "current = pd.DataFrame.from_dict(data[\"draftables\"])"
      ],
      "execution_count": 0,
      "outputs": []
    },
    {
      "cell_type": "markdown",
      "metadata": {
        "id": "JtVxafhl9AKo",
        "colab_type": "text"
      },
      "source": [
        "## Clean Data\n",
        "\n",
        "\n",
        "This data is in a horrible format. \n",
        "\n",
        "*   There are Dictionaries nested in column\n",
        "*   Dictionary within a List nested in column\n",
        "*   Duplicates\n",
        "*   Irrelevant columns\n",
        "\n"
      ]
    },
    {
      "cell_type": "code",
      "metadata": {
        "id": "e1qKfTRz7lsf",
        "colab_type": "code",
        "outputId": "50f91c87-4fcd-4dd5-d029-8041b29a6155",
        "colab": {
          "base_uri": "https://localhost:8080/",
          "height": 479
        }
      },
      "source": [
        "# View Data\n",
        "current.head()"
      ],
      "execution_count": 0,
      "outputs": [
        {
          "output_type": "execute_result",
          "data": {
            "text/html": [
              "<div>\n",
              "<style scoped>\n",
              "    .dataframe tbody tr th:only-of-type {\n",
              "        vertical-align: middle;\n",
              "    }\n",
              "\n",
              "    .dataframe tbody tr th {\n",
              "        vertical-align: top;\n",
              "    }\n",
              "\n",
              "    .dataframe thead th {\n",
              "        text-align: right;\n",
              "    }\n",
              "</style>\n",
              "<table border=\"1\" class=\"dataframe\">\n",
              "  <thead>\n",
              "    <tr style=\"text-align: right;\">\n",
              "      <th></th>\n",
              "      <th>competition</th>\n",
              "      <th>displayName</th>\n",
              "      <th>draftAlerts</th>\n",
              "      <th>draftStatAttributes</th>\n",
              "      <th>draftableId</th>\n",
              "      <th>firstName</th>\n",
              "      <th>isDisabled</th>\n",
              "      <th>isSwappable</th>\n",
              "      <th>lastName</th>\n",
              "      <th>newsStatus</th>\n",
              "      <th>playerAttributes</th>\n",
              "      <th>playerGameAttributes</th>\n",
              "      <th>playerGameHash</th>\n",
              "      <th>playerId</th>\n",
              "      <th>playerImage160</th>\n",
              "      <th>playerImage50</th>\n",
              "      <th>playerImage65</th>\n",
              "      <th>playerImageFull</th>\n",
              "      <th>position</th>\n",
              "      <th>rosterSlotId</th>\n",
              "      <th>salary</th>\n",
              "      <th>shortName</th>\n",
              "      <th>status</th>\n",
              "      <th>teamAbbreviation</th>\n",
              "      <th>teamId</th>\n",
              "    </tr>\n",
              "  </thead>\n",
              "  <tbody>\n",
              "    <tr>\n",
              "      <th>0</th>\n",
              "      <td>{'competitionId': 5523569, 'name': 'NO @ NYG',...</td>\n",
              "      <td>Alvin Kamara</td>\n",
              "      <td>[]</td>\n",
              "      <td>[{'id': 90, 'value': '36.3', 'sortValue': '36....</td>\n",
              "      <td>11349545</td>\n",
              "      <td>Alvin</td>\n",
              "      <td>False</td>\n",
              "      <td>False</td>\n",
              "      <td>Kamara</td>\n",
              "      <td>Recent</td>\n",
              "      <td>[]</td>\n",
              "      <td>[]</td>\n",
              "      <td>750846-5523569</td>\n",
              "      <td>750846</td>\n",
              "      <td>https://d327rxwuxd0q0c.cloudfront.net/m/nfl_re...</td>\n",
              "      <td>https://d327rxwuxd0q0c.cloudfront.net/m/nfl_50...</td>\n",
              "      <td>https://d327rxwuxd0q0c.cloudfront.net/m/nfl_65...</td>\n",
              "      <td>https://d327rxwuxd0q0c.cloudfront.net/nfl/play...</td>\n",
              "      <td>RB</td>\n",
              "      <td>67</td>\n",
              "      <td>9600</td>\n",
              "      <td>A. Kamara</td>\n",
              "      <td>None</td>\n",
              "      <td>NO</td>\n",
              "      <td>350</td>\n",
              "    </tr>\n",
              "    <tr>\n",
              "      <th>1</th>\n",
              "      <td>{'competitionId': 5523569, 'name': 'NO @ NYG',...</td>\n",
              "      <td>Alvin Kamara</td>\n",
              "      <td>[]</td>\n",
              "      <td>[{'id': 90, 'value': '36.3', 'sortValue': '36....</td>\n",
              "      <td>11349546</td>\n",
              "      <td>Alvin</td>\n",
              "      <td>False</td>\n",
              "      <td>False</td>\n",
              "      <td>Kamara</td>\n",
              "      <td>Recent</td>\n",
              "      <td>[]</td>\n",
              "      <td>[]</td>\n",
              "      <td>750846-5523569</td>\n",
              "      <td>750846</td>\n",
              "      <td>https://d327rxwuxd0q0c.cloudfront.net/m/nfl_re...</td>\n",
              "      <td>https://d327rxwuxd0q0c.cloudfront.net/m/nfl_50...</td>\n",
              "      <td>https://d327rxwuxd0q0c.cloudfront.net/m/nfl_65...</td>\n",
              "      <td>https://d327rxwuxd0q0c.cloudfront.net/nfl/play...</td>\n",
              "      <td>RB</td>\n",
              "      <td>70</td>\n",
              "      <td>9600</td>\n",
              "      <td>A. Kamara</td>\n",
              "      <td>None</td>\n",
              "      <td>NO</td>\n",
              "      <td>350</td>\n",
              "    </tr>\n",
              "    <tr>\n",
              "      <th>2</th>\n",
              "      <td>{'competitionId': 5523569, 'name': 'NO @ NYG',...</td>\n",
              "      <td>Michael Thomas</td>\n",
              "      <td>[]</td>\n",
              "      <td>[{'id': 90, 'value': '27.1', 'sortValue': '27....</td>\n",
              "      <td>11349345</td>\n",
              "      <td>Michael</td>\n",
              "      <td>False</td>\n",
              "      <td>False</td>\n",
              "      <td>Thomas</td>\n",
              "      <td>Recent</td>\n",
              "      <td>[]</td>\n",
              "      <td>[]</td>\n",
              "      <td>653699-5523569</td>\n",
              "      <td>653699</td>\n",
              "      <td>https://d327rxwuxd0q0c.cloudfront.net/m/nfl_re...</td>\n",
              "      <td>https://d327rxwuxd0q0c.cloudfront.net/m/nfl_50...</td>\n",
              "      <td>https://d327rxwuxd0q0c.cloudfront.net/m/nfl_65...</td>\n",
              "      <td>https://d327rxwuxd0q0c.cloudfront.net/nfl/play...</td>\n",
              "      <td>WR</td>\n",
              "      <td>68</td>\n",
              "      <td>9100</td>\n",
              "      <td>M. Thomas</td>\n",
              "      <td>None</td>\n",
              "      <td>NO</td>\n",
              "      <td>350</td>\n",
              "    </tr>\n",
              "    <tr>\n",
              "      <th>3</th>\n",
              "      <td>{'competitionId': 5523569, 'name': 'NO @ NYG',...</td>\n",
              "      <td>Michael Thomas</td>\n",
              "      <td>[]</td>\n",
              "      <td>[{'id': 90, 'value': '27.1', 'sortValue': '27....</td>\n",
              "      <td>11349346</td>\n",
              "      <td>Michael</td>\n",
              "      <td>False</td>\n",
              "      <td>False</td>\n",
              "      <td>Thomas</td>\n",
              "      <td>Recent</td>\n",
              "      <td>[]</td>\n",
              "      <td>[]</td>\n",
              "      <td>653699-5523569</td>\n",
              "      <td>653699</td>\n",
              "      <td>https://d327rxwuxd0q0c.cloudfront.net/m/nfl_re...</td>\n",
              "      <td>https://d327rxwuxd0q0c.cloudfront.net/m/nfl_50...</td>\n",
              "      <td>https://d327rxwuxd0q0c.cloudfront.net/m/nfl_65...</td>\n",
              "      <td>https://d327rxwuxd0q0c.cloudfront.net/nfl/play...</td>\n",
              "      <td>WR</td>\n",
              "      <td>70</td>\n",
              "      <td>9100</td>\n",
              "      <td>M. Thomas</td>\n",
              "      <td>None</td>\n",
              "      <td>NO</td>\n",
              "      <td>350</td>\n",
              "    </tr>\n",
              "    <tr>\n",
              "      <th>4</th>\n",
              "      <td>{'competitionId': 5523581, 'name': 'BAL @ PIT'...</td>\n",
              "      <td>Antonio Brown</td>\n",
              "      <td>[]</td>\n",
              "      <td>[{'id': 90, 'value': '18.6', 'sortValue': '18....</td>\n",
              "      <td>11348973</td>\n",
              "      <td>Antonio</td>\n",
              "      <td>False</td>\n",
              "      <td>False</td>\n",
              "      <td>Brown</td>\n",
              "      <td>Recent</td>\n",
              "      <td>[]</td>\n",
              "      <td>[]</td>\n",
              "      <td>406214-5523581</td>\n",
              "      <td>406214</td>\n",
              "      <td>https://d327rxwuxd0q0c.cloudfront.net/m/nfl_re...</td>\n",
              "      <td>https://d327rxwuxd0q0c.cloudfront.net/m/nfl_50...</td>\n",
              "      <td>https://d327rxwuxd0q0c.cloudfront.net/m/nfl_65...</td>\n",
              "      <td>https://d327rxwuxd0q0c.cloudfront.net/nfl/play...</td>\n",
              "      <td>WR</td>\n",
              "      <td>68</td>\n",
              "      <td>8800</td>\n",
              "      <td>A. Brown</td>\n",
              "      <td>None</td>\n",
              "      <td>PIT</td>\n",
              "      <td>356</td>\n",
              "    </tr>\n",
              "  </tbody>\n",
              "</table>\n",
              "</div>"
            ],
            "text/plain": [
              "                                         competition  ... teamId\n",
              "0  {'competitionId': 5523569, 'name': 'NO @ NYG',...  ...    350\n",
              "1  {'competitionId': 5523569, 'name': 'NO @ NYG',...  ...    350\n",
              "2  {'competitionId': 5523569, 'name': 'NO @ NYG',...  ...    350\n",
              "3  {'competitionId': 5523569, 'name': 'NO @ NYG',...  ...    350\n",
              "4  {'competitionId': 5523581, 'name': 'BAL @ PIT'...  ...    356\n",
              "\n",
              "[5 rows x 25 columns]"
            ]
          },
          "metadata": {
            "tags": []
          },
          "execution_count": 8
        }
      ]
    },
    {
      "cell_type": "markdown",
      "metadata": {
        "id": "Wl50zBnY-FuF",
        "colab_type": "text"
      },
      "source": [
        "### Remove Duplicates"
      ]
    },
    {
      "cell_type": "code",
      "metadata": {
        "id": "YmXVDP6j-Iia",
        "colab_type": "code",
        "colab": {}
      },
      "source": [
        "# dropping duplicte Names \n",
        "current = current.drop_duplicates(subset = 'displayName', keep = 'first') "
      ],
      "execution_count": 0,
      "outputs": []
    },
    {
      "cell_type": "markdown",
      "metadata": {
        "id": "okTHzlCF-DeU",
        "colab_type": "text"
      },
      "source": [
        "### Remove Injured Players"
      ]
    },
    {
      "cell_type": "code",
      "metadata": {
        "id": "2I5Qfch29RCS",
        "colab_type": "code",
        "outputId": "47a341fc-d976-45d0-d550-0156f19af6d8",
        "colab": {
          "base_uri": "https://localhost:8080/",
          "height": 102
        }
      },
      "source": [
        "# status counts\n",
        "current['status'].value_counts()\n"
      ],
      "execution_count": 0,
      "outputs": [
        {
          "output_type": "execute_result",
          "data": {
            "text/plain": [
              "None    430\n",
              "Q        47\n",
              "IR       17\n",
              "O        16\n",
              "Name: status, dtype: int64"
            ]
          },
          "metadata": {
            "tags": []
          },
          "execution_count": 10
        }
      ]
    },
    {
      "cell_type": "code",
      "metadata": {
        "id": "dZ37ALNGaOTP",
        "colab_type": "code",
        "colab": {}
      },
      "source": [
        "# Remove players that are out or questionable\n",
        "current = current[current.status == \"None\"]"
      ],
      "execution_count": 0,
      "outputs": []
    },
    {
      "cell_type": "code",
      "metadata": {
        "id": "cDDSg8-eaQ10",
        "colab_type": "code",
        "outputId": "b57c1a8f-533b-4319-d124-745e75a9e52e",
        "colab": {
          "base_uri": "https://localhost:8080/",
          "height": 479
        }
      },
      "source": [
        "# view data\n",
        "current.head()"
      ],
      "execution_count": 0,
      "outputs": [
        {
          "output_type": "execute_result",
          "data": {
            "text/html": [
              "<div>\n",
              "<style scoped>\n",
              "    .dataframe tbody tr th:only-of-type {\n",
              "        vertical-align: middle;\n",
              "    }\n",
              "\n",
              "    .dataframe tbody tr th {\n",
              "        vertical-align: top;\n",
              "    }\n",
              "\n",
              "    .dataframe thead th {\n",
              "        text-align: right;\n",
              "    }\n",
              "</style>\n",
              "<table border=\"1\" class=\"dataframe\">\n",
              "  <thead>\n",
              "    <tr style=\"text-align: right;\">\n",
              "      <th></th>\n",
              "      <th>competition</th>\n",
              "      <th>displayName</th>\n",
              "      <th>draftAlerts</th>\n",
              "      <th>draftStatAttributes</th>\n",
              "      <th>draftableId</th>\n",
              "      <th>firstName</th>\n",
              "      <th>isDisabled</th>\n",
              "      <th>isSwappable</th>\n",
              "      <th>lastName</th>\n",
              "      <th>newsStatus</th>\n",
              "      <th>playerAttributes</th>\n",
              "      <th>playerGameAttributes</th>\n",
              "      <th>playerGameHash</th>\n",
              "      <th>playerId</th>\n",
              "      <th>playerImage160</th>\n",
              "      <th>playerImage50</th>\n",
              "      <th>playerImage65</th>\n",
              "      <th>playerImageFull</th>\n",
              "      <th>position</th>\n",
              "      <th>rosterSlotId</th>\n",
              "      <th>salary</th>\n",
              "      <th>shortName</th>\n",
              "      <th>status</th>\n",
              "      <th>teamAbbreviation</th>\n",
              "      <th>teamId</th>\n",
              "    </tr>\n",
              "  </thead>\n",
              "  <tbody>\n",
              "    <tr>\n",
              "      <th>0</th>\n",
              "      <td>{'competitionId': 5523569, 'name': 'NO @ NYG',...</td>\n",
              "      <td>Alvin Kamara</td>\n",
              "      <td>[]</td>\n",
              "      <td>[{'id': 90, 'value': '36.3', 'sortValue': '36....</td>\n",
              "      <td>11349545</td>\n",
              "      <td>Alvin</td>\n",
              "      <td>False</td>\n",
              "      <td>False</td>\n",
              "      <td>Kamara</td>\n",
              "      <td>Recent</td>\n",
              "      <td>[]</td>\n",
              "      <td>[]</td>\n",
              "      <td>750846-5523569</td>\n",
              "      <td>750846</td>\n",
              "      <td>https://d327rxwuxd0q0c.cloudfront.net/m/nfl_re...</td>\n",
              "      <td>https://d327rxwuxd0q0c.cloudfront.net/m/nfl_50...</td>\n",
              "      <td>https://d327rxwuxd0q0c.cloudfront.net/m/nfl_65...</td>\n",
              "      <td>https://d327rxwuxd0q0c.cloudfront.net/nfl/play...</td>\n",
              "      <td>RB</td>\n",
              "      <td>67</td>\n",
              "      <td>9600</td>\n",
              "      <td>A. Kamara</td>\n",
              "      <td>None</td>\n",
              "      <td>NO</td>\n",
              "      <td>350</td>\n",
              "    </tr>\n",
              "    <tr>\n",
              "      <th>2</th>\n",
              "      <td>{'competitionId': 5523569, 'name': 'NO @ NYG',...</td>\n",
              "      <td>Michael Thomas</td>\n",
              "      <td>[]</td>\n",
              "      <td>[{'id': 90, 'value': '27.1', 'sortValue': '27....</td>\n",
              "      <td>11349345</td>\n",
              "      <td>Michael</td>\n",
              "      <td>False</td>\n",
              "      <td>False</td>\n",
              "      <td>Thomas</td>\n",
              "      <td>Recent</td>\n",
              "      <td>[]</td>\n",
              "      <td>[]</td>\n",
              "      <td>653699-5523569</td>\n",
              "      <td>653699</td>\n",
              "      <td>https://d327rxwuxd0q0c.cloudfront.net/m/nfl_re...</td>\n",
              "      <td>https://d327rxwuxd0q0c.cloudfront.net/m/nfl_50...</td>\n",
              "      <td>https://d327rxwuxd0q0c.cloudfront.net/m/nfl_65...</td>\n",
              "      <td>https://d327rxwuxd0q0c.cloudfront.net/nfl/play...</td>\n",
              "      <td>WR</td>\n",
              "      <td>68</td>\n",
              "      <td>9100</td>\n",
              "      <td>M. Thomas</td>\n",
              "      <td>None</td>\n",
              "      <td>NO</td>\n",
              "      <td>350</td>\n",
              "    </tr>\n",
              "    <tr>\n",
              "      <th>4</th>\n",
              "      <td>{'competitionId': 5523581, 'name': 'BAL @ PIT'...</td>\n",
              "      <td>Antonio Brown</td>\n",
              "      <td>[]</td>\n",
              "      <td>[{'id': 90, 'value': '18.6', 'sortValue': '18....</td>\n",
              "      <td>11348973</td>\n",
              "      <td>Antonio</td>\n",
              "      <td>False</td>\n",
              "      <td>False</td>\n",
              "      <td>Brown</td>\n",
              "      <td>Recent</td>\n",
              "      <td>[]</td>\n",
              "      <td>[]</td>\n",
              "      <td>406214-5523581</td>\n",
              "      <td>406214</td>\n",
              "      <td>https://d327rxwuxd0q0c.cloudfront.net/m/nfl_re...</td>\n",
              "      <td>https://d327rxwuxd0q0c.cloudfront.net/m/nfl_50...</td>\n",
              "      <td>https://d327rxwuxd0q0c.cloudfront.net/m/nfl_65...</td>\n",
              "      <td>https://d327rxwuxd0q0c.cloudfront.net/nfl/play...</td>\n",
              "      <td>WR</td>\n",
              "      <td>68</td>\n",
              "      <td>8800</td>\n",
              "      <td>A. Brown</td>\n",
              "      <td>None</td>\n",
              "      <td>PIT</td>\n",
              "      <td>356</td>\n",
              "    </tr>\n",
              "    <tr>\n",
              "      <th>6</th>\n",
              "      <td>{'competitionId': 5523569, 'name': 'NO @ NYG',...</td>\n",
              "      <td>Odell Beckham Jr.</td>\n",
              "      <td>[]</td>\n",
              "      <td>[{'id': 90, 'value': '17.8', 'sortValue': '17....</td>\n",
              "      <td>11349201</td>\n",
              "      <td>Odell</td>\n",
              "      <td>False</td>\n",
              "      <td>False</td>\n",
              "      <td>Beckham Jr.</td>\n",
              "      <td>Recent</td>\n",
              "      <td>[]</td>\n",
              "      <td>[]</td>\n",
              "      <td>589984-5523569</td>\n",
              "      <td>589984</td>\n",
              "      <td>https://d327rxwuxd0q0c.cloudfront.net/m/nfl_re...</td>\n",
              "      <td>https://d327rxwuxd0q0c.cloudfront.net/m/nfl_50...</td>\n",
              "      <td>https://d327rxwuxd0q0c.cloudfront.net/m/nfl_65...</td>\n",
              "      <td>https://d327rxwuxd0q0c.cloudfront.net/nfl/play...</td>\n",
              "      <td>WR</td>\n",
              "      <td>68</td>\n",
              "      <td>8700</td>\n",
              "      <td>O. Beckham Jr.</td>\n",
              "      <td>None</td>\n",
              "      <td>NYG</td>\n",
              "      <td>351</td>\n",
              "    </tr>\n",
              "    <tr>\n",
              "      <th>10</th>\n",
              "      <td>{'competitionId': 5523526, 'name': 'HOU @ IND'...</td>\n",
              "      <td>DeAndre Hopkins</td>\n",
              "      <td>[]</td>\n",
              "      <td>[{'id': 90, 'value': '22.9', 'sortValue': '22....</td>\n",
              "      <td>11349188</td>\n",
              "      <td>DeAndre</td>\n",
              "      <td>False</td>\n",
              "      <td>False</td>\n",
              "      <td>Hopkins</td>\n",
              "      <td>Recent</td>\n",
              "      <td>[]</td>\n",
              "      <td>[]</td>\n",
              "      <td>560241-5523526</td>\n",
              "      <td>560241</td>\n",
              "      <td>https://d327rxwuxd0q0c.cloudfront.net/m/nfl_re...</td>\n",
              "      <td>https://d327rxwuxd0q0c.cloudfront.net/m/nfl_50...</td>\n",
              "      <td>https://d327rxwuxd0q0c.cloudfront.net/m/nfl_65...</td>\n",
              "      <td>https://d327rxwuxd0q0c.cloudfront.net/nfl/play...</td>\n",
              "      <td>WR</td>\n",
              "      <td>68</td>\n",
              "      <td>8400</td>\n",
              "      <td>D. Hopkins</td>\n",
              "      <td>None</td>\n",
              "      <td>HOU</td>\n",
              "      <td>325</td>\n",
              "    </tr>\n",
              "  </tbody>\n",
              "</table>\n",
              "</div>"
            ],
            "text/plain": [
              "                                          competition  ... teamId\n",
              "0   {'competitionId': 5523569, 'name': 'NO @ NYG',...  ...    350\n",
              "2   {'competitionId': 5523569, 'name': 'NO @ NYG',...  ...    350\n",
              "4   {'competitionId': 5523581, 'name': 'BAL @ PIT'...  ...    356\n",
              "6   {'competitionId': 5523569, 'name': 'NO @ NYG',...  ...    351\n",
              "10  {'competitionId': 5523526, 'name': 'HOU @ IND'...  ...    325\n",
              "\n",
              "[5 rows x 25 columns]"
            ]
          },
          "metadata": {
            "tags": []
          },
          "execution_count": 12
        }
      ]
    },
    {
      "cell_type": "markdown",
      "metadata": {
        "id": "Dq-RmcV0LO0W",
        "colab_type": "text"
      },
      "source": [
        "### Extract Points\n",
        "\n",
        "\"draftStatAttributes\" contains the average fantasy points for each player. However, it is nested in a very annoying way.\n",
        "\n",
        "\n",
        "We need to create a function that will "
      ]
    },
    {
      "cell_type": "code",
      "metadata": {
        "id": "oa80Bx9WbWqe",
        "colab_type": "code",
        "outputId": "1865b9ec-a9e9-4a8b-c169-566a43a4275b",
        "colab": {
          "base_uri": "https://localhost:8080/",
          "height": 51
        }
      },
      "source": [
        "# examine how draftStatAttributes is formatted\n",
        "current['draftStatAttributes'][2]"
      ],
      "execution_count": 0,
      "outputs": [
        {
          "output_type": "execute_result",
          "data": {
            "text/plain": [
              "[{'id': 90, 'sortValue': '27.1', 'value': '27.1'},\n",
              " {'id': -2, 'quality': 'Low', 'sortValue': '2', 'value': '2nd'}]"
            ]
          },
          "metadata": {
            "tags": []
          },
          "execution_count": 13
        }
      ]
    },
    {
      "cell_type": "code",
      "metadata": {
        "id": "8wjk7wm3aSWA",
        "colab_type": "code",
        "colab": {}
      },
      "source": [
        "# Create function to extract average points\n",
        "def get_float(l, key):\n",
        "    \"\"\" Returns first float value from a list of dictionaries based on key. Defaults to 0.0 \"\"\"\n",
        "    for d in l:\n",
        "        try:\n",
        "            return float(d.get(key))\n",
        "        except:\n",
        "            pass\n",
        "    return 0.0"
      ],
      "execution_count": 0,
      "outputs": []
    },
    {
      "cell_type": "code",
      "metadata": {
        "id": "7JVhmU5OaZRx",
        "colab_type": "code",
        "colab": {}
      },
      "source": [
        "# use function on dataset\n",
        "current[\"points\"] = [get_float(x, \"value\") for x in current.draftStatAttributes]"
      ],
      "execution_count": 0,
      "outputs": []
    },
    {
      "cell_type": "markdown",
      "metadata": {
        "id": "mJ8rD6Lkb_om",
        "colab_type": "text"
      },
      "source": [
        "### Select Columns\n",
        "\n",
        "We only need the player's position, displayName, salary, and points"
      ]
    },
    {
      "cell_type": "code",
      "metadata": {
        "id": "YhkN_Kizhfiq",
        "colab_type": "code",
        "outputId": "1b0d96ea-6f79-45ea-b564-ea84d28fa982",
        "colab": {
          "base_uri": "https://localhost:8080/",
          "height": 204
        }
      },
      "source": [
        "# subset our data and name it availables\n",
        "availables = current[[\"position\", \"displayName\", \"salary\", \"points\"]]\n",
        "\n",
        "# view top 5 players\n",
        "availables.head()"
      ],
      "execution_count": 0,
      "outputs": [
        {
          "output_type": "execute_result",
          "data": {
            "text/html": [
              "<div>\n",
              "<style scoped>\n",
              "    .dataframe tbody tr th:only-of-type {\n",
              "        vertical-align: middle;\n",
              "    }\n",
              "\n",
              "    .dataframe tbody tr th {\n",
              "        vertical-align: top;\n",
              "    }\n",
              "\n",
              "    .dataframe thead th {\n",
              "        text-align: right;\n",
              "    }\n",
              "</style>\n",
              "<table border=\"1\" class=\"dataframe\">\n",
              "  <thead>\n",
              "    <tr style=\"text-align: right;\">\n",
              "      <th></th>\n",
              "      <th>position</th>\n",
              "      <th>displayName</th>\n",
              "      <th>salary</th>\n",
              "      <th>points</th>\n",
              "    </tr>\n",
              "  </thead>\n",
              "  <tbody>\n",
              "    <tr>\n",
              "      <th>0</th>\n",
              "      <td>RB</td>\n",
              "      <td>Alvin Kamara</td>\n",
              "      <td>9600</td>\n",
              "      <td>36.3</td>\n",
              "    </tr>\n",
              "    <tr>\n",
              "      <th>2</th>\n",
              "      <td>WR</td>\n",
              "      <td>Michael Thomas</td>\n",
              "      <td>9100</td>\n",
              "      <td>27.1</td>\n",
              "    </tr>\n",
              "    <tr>\n",
              "      <th>4</th>\n",
              "      <td>WR</td>\n",
              "      <td>Antonio Brown</td>\n",
              "      <td>8800</td>\n",
              "      <td>18.6</td>\n",
              "    </tr>\n",
              "    <tr>\n",
              "      <th>6</th>\n",
              "      <td>WR</td>\n",
              "      <td>Odell Beckham Jr.</td>\n",
              "      <td>8700</td>\n",
              "      <td>17.8</td>\n",
              "    </tr>\n",
              "    <tr>\n",
              "      <th>10</th>\n",
              "      <td>WR</td>\n",
              "      <td>DeAndre Hopkins</td>\n",
              "      <td>8400</td>\n",
              "      <td>22.9</td>\n",
              "    </tr>\n",
              "  </tbody>\n",
              "</table>\n",
              "</div>"
            ],
            "text/plain": [
              "   position        displayName  salary  points\n",
              "0        RB       Alvin Kamara    9600    36.3\n",
              "2        WR     Michael Thomas    9100    27.1\n",
              "4        WR      Antonio Brown    8800    18.6\n",
              "6        WR  Odell Beckham Jr.    8700    17.8\n",
              "10       WR    DeAndre Hopkins    8400    22.9"
            ]
          },
          "metadata": {
            "tags": []
          },
          "execution_count": 16
        }
      ]
    },
    {
      "cell_type": "code",
      "metadata": {
        "id": "_wU_pvt6cblZ",
        "colab_type": "code",
        "outputId": "138ea29a-c1d1-427a-9b43-3655ec3467ad",
        "colab": {
          "base_uri": "https://localhost:8080/",
          "height": 204
        }
      },
      "source": [
        "# reset the index numbers\n",
        "availables = availables.reset_index(drop=True)\n",
        "\n",
        "# view top 5 players\n",
        "availables.head()"
      ],
      "execution_count": 0,
      "outputs": [
        {
          "output_type": "execute_result",
          "data": {
            "text/html": [
              "<div>\n",
              "<style scoped>\n",
              "    .dataframe tbody tr th:only-of-type {\n",
              "        vertical-align: middle;\n",
              "    }\n",
              "\n",
              "    .dataframe tbody tr th {\n",
              "        vertical-align: top;\n",
              "    }\n",
              "\n",
              "    .dataframe thead th {\n",
              "        text-align: right;\n",
              "    }\n",
              "</style>\n",
              "<table border=\"1\" class=\"dataframe\">\n",
              "  <thead>\n",
              "    <tr style=\"text-align: right;\">\n",
              "      <th></th>\n",
              "      <th>position</th>\n",
              "      <th>displayName</th>\n",
              "      <th>salary</th>\n",
              "      <th>points</th>\n",
              "    </tr>\n",
              "  </thead>\n",
              "  <tbody>\n",
              "    <tr>\n",
              "      <th>0</th>\n",
              "      <td>RB</td>\n",
              "      <td>Alvin Kamara</td>\n",
              "      <td>9600</td>\n",
              "      <td>36.3</td>\n",
              "    </tr>\n",
              "    <tr>\n",
              "      <th>1</th>\n",
              "      <td>WR</td>\n",
              "      <td>Michael Thomas</td>\n",
              "      <td>9100</td>\n",
              "      <td>27.1</td>\n",
              "    </tr>\n",
              "    <tr>\n",
              "      <th>2</th>\n",
              "      <td>WR</td>\n",
              "      <td>Antonio Brown</td>\n",
              "      <td>8800</td>\n",
              "      <td>18.6</td>\n",
              "    </tr>\n",
              "    <tr>\n",
              "      <th>3</th>\n",
              "      <td>WR</td>\n",
              "      <td>Odell Beckham Jr.</td>\n",
              "      <td>8700</td>\n",
              "      <td>17.8</td>\n",
              "    </tr>\n",
              "    <tr>\n",
              "      <th>4</th>\n",
              "      <td>WR</td>\n",
              "      <td>DeAndre Hopkins</td>\n",
              "      <td>8400</td>\n",
              "      <td>22.9</td>\n",
              "    </tr>\n",
              "  </tbody>\n",
              "</table>\n",
              "</div>"
            ],
            "text/plain": [
              "  position        displayName  salary  points\n",
              "0       RB       Alvin Kamara    9600    36.3\n",
              "1       WR     Michael Thomas    9100    27.1\n",
              "2       WR      Antonio Brown    8800    18.6\n",
              "3       WR  Odell Beckham Jr.    8700    17.8\n",
              "4       WR    DeAndre Hopkins    8400    22.9"
            ]
          },
          "metadata": {
            "tags": []
          },
          "execution_count": 17
        }
      ]
    },
    {
      "cell_type": "code",
      "metadata": {
        "id": "yMepaTvWlwGX",
        "colab_type": "code",
        "outputId": "98938c96-f19f-474d-88f2-532097bc62dd",
        "colab": {
          "base_uri": "https://localhost:8080/",
          "height": 119
        }
      },
      "source": [
        "# See how many players are available at each position\n",
        "availables[\"position\"].value_counts()"
      ],
      "execution_count": 0,
      "outputs": [
        {
          "output_type": "execute_result",
          "data": {
            "text/plain": [
              "WR     143\n",
              "RB     105\n",
              "TE      87\n",
              "QB      67\n",
              "DST     28\n",
              "Name: position, dtype: int64"
            ]
          },
          "metadata": {
            "tags": []
          },
          "execution_count": 18
        }
      ]
    },
    {
      "cell_type": "code",
      "metadata": {
        "id": "ldXfelY6adah",
        "colab_type": "code",
        "outputId": "ff9d7c5d-efb0-435e-b10d-7324d4e5a588",
        "colab": {
          "base_uri": "https://localhost:8080/",
          "height": 514
        }
      },
      "source": [
        "# See top 15 priced QBs\n",
        "availables[availables[\"position\"]==\"QB\"].sort_values(by = 'points', ascending=False).head(15)"
      ],
      "execution_count": 0,
      "outputs": [
        {
          "output_type": "execute_result",
          "data": {
            "text/html": [
              "<div>\n",
              "<style scoped>\n",
              "    .dataframe tbody tr th:only-of-type {\n",
              "        vertical-align: middle;\n",
              "    }\n",
              "\n",
              "    .dataframe tbody tr th {\n",
              "        vertical-align: top;\n",
              "    }\n",
              "\n",
              "    .dataframe thead th {\n",
              "        text-align: right;\n",
              "    }\n",
              "</style>\n",
              "<table border=\"1\" class=\"dataframe\">\n",
              "  <thead>\n",
              "    <tr style=\"text-align: right;\">\n",
              "      <th></th>\n",
              "      <th>position</th>\n",
              "      <th>displayName</th>\n",
              "      <th>salary</th>\n",
              "      <th>points</th>\n",
              "    </tr>\n",
              "  </thead>\n",
              "  <tbody>\n",
              "    <tr>\n",
              "      <th>19</th>\n",
              "      <td>QB</td>\n",
              "      <td>Patrick Mahomes</td>\n",
              "      <td>6800</td>\n",
              "      <td>31.1</td>\n",
              "    </tr>\n",
              "    <tr>\n",
              "      <th>30</th>\n",
              "      <td>QB</td>\n",
              "      <td>Matt Ryan</td>\n",
              "      <td>6100</td>\n",
              "      <td>29.2</td>\n",
              "    </tr>\n",
              "    <tr>\n",
              "      <th>29</th>\n",
              "      <td>QB</td>\n",
              "      <td>Ryan Fitzpatrick</td>\n",
              "      <td>6200</td>\n",
              "      <td>28.6</td>\n",
              "    </tr>\n",
              "    <tr>\n",
              "      <th>23</th>\n",
              "      <td>QB</td>\n",
              "      <td>Drew Brees</td>\n",
              "      <td>6600</td>\n",
              "      <td>26.1</td>\n",
              "    </tr>\n",
              "    <tr>\n",
              "      <th>27</th>\n",
              "      <td>QB</td>\n",
              "      <td>Deshaun Watson</td>\n",
              "      <td>6300</td>\n",
              "      <td>26.0</td>\n",
              "    </tr>\n",
              "    <tr>\n",
              "      <th>32</th>\n",
              "      <td>QB</td>\n",
              "      <td>Ben Roethlisberger</td>\n",
              "      <td>6000</td>\n",
              "      <td>25.7</td>\n",
              "    </tr>\n",
              "    <tr>\n",
              "      <th>25</th>\n",
              "      <td>QB</td>\n",
              "      <td>Philip Rivers</td>\n",
              "      <td>6500</td>\n",
              "      <td>23.9</td>\n",
              "    </tr>\n",
              "    <tr>\n",
              "      <th>57</th>\n",
              "      <td>QB</td>\n",
              "      <td>Andy Dalton</td>\n",
              "      <td>5400</td>\n",
              "      <td>23.5</td>\n",
              "    </tr>\n",
              "    <tr>\n",
              "      <th>50</th>\n",
              "      <td>QB</td>\n",
              "      <td>Andrew Luck</td>\n",
              "      <td>5500</td>\n",
              "      <td>22.6</td>\n",
              "    </tr>\n",
              "    <tr>\n",
              "      <th>62</th>\n",
              "      <td>QB</td>\n",
              "      <td>Blake Bortles</td>\n",
              "      <td>5200</td>\n",
              "      <td>22.0</td>\n",
              "    </tr>\n",
              "    <tr>\n",
              "      <th>58</th>\n",
              "      <td>QB</td>\n",
              "      <td>Joe Flacco</td>\n",
              "      <td>5400</td>\n",
              "      <td>21.5</td>\n",
              "    </tr>\n",
              "    <tr>\n",
              "      <th>65</th>\n",
              "      <td>QB</td>\n",
              "      <td>Mitchell Trubisky</td>\n",
              "      <td>5200</td>\n",
              "      <td>21.4</td>\n",
              "    </tr>\n",
              "    <tr>\n",
              "      <th>69</th>\n",
              "      <td>QB</td>\n",
              "      <td>Derek Carr</td>\n",
              "      <td>5100</td>\n",
              "      <td>20.7</td>\n",
              "    </tr>\n",
              "    <tr>\n",
              "      <th>41</th>\n",
              "      <td>QB</td>\n",
              "      <td>Matthew Stafford</td>\n",
              "      <td>5700</td>\n",
              "      <td>20.7</td>\n",
              "    </tr>\n",
              "    <tr>\n",
              "      <th>37</th>\n",
              "      <td>QB</td>\n",
              "      <td>Carson Wentz</td>\n",
              "      <td>5800</td>\n",
              "      <td>19.0</td>\n",
              "    </tr>\n",
              "  </tbody>\n",
              "</table>\n",
              "</div>"
            ],
            "text/plain": [
              "   position         displayName  salary  points\n",
              "19       QB     Patrick Mahomes    6800    31.1\n",
              "30       QB           Matt Ryan    6100    29.2\n",
              "29       QB    Ryan Fitzpatrick    6200    28.6\n",
              "23       QB          Drew Brees    6600    26.1\n",
              "27       QB      Deshaun Watson    6300    26.0\n",
              "32       QB  Ben Roethlisberger    6000    25.7\n",
              "25       QB       Philip Rivers    6500    23.9\n",
              "57       QB         Andy Dalton    5400    23.5\n",
              "50       QB         Andrew Luck    5500    22.6\n",
              "62       QB       Blake Bortles    5200    22.0\n",
              "58       QB          Joe Flacco    5400    21.5\n",
              "65       QB   Mitchell Trubisky    5200    21.4\n",
              "69       QB          Derek Carr    5100    20.7\n",
              "41       QB    Matthew Stafford    5700    20.7\n",
              "37       QB        Carson Wentz    5800    19.0"
            ]
          },
          "metadata": {
            "tags": []
          },
          "execution_count": 19
        }
      ]
    },
    {
      "cell_type": "markdown",
      "metadata": {
        "id": "z1gzQQw9zNeo",
        "colab_type": "text"
      },
      "source": [
        "# Define The Problem"
      ]
    },
    {
      "cell_type": "markdown",
      "metadata": {
        "id": "uhZ7n8s5rUr7",
        "colab_type": "text"
      },
      "source": [
        "## Using PuLP (Random Example)\n",
        "\n",
        "There was a natural disaster, Earthquake that caused a Tsunami and first aid is being shipped in to help the situation.\n",
        "\n",
        "There are 2 distribution centers (DC1 and DC2) that can ship supplies to either the earthquake location or the tsunami location. Each location needs a set number of supplies. \n",
        "\n",
        "What is the shortest distance needed to ship all the needed supplies?"
      ]
    },
    {
      "cell_type": "code",
      "metadata": {
        "id": "J1PJvgbIpM7c",
        "colab_type": "code",
        "colab": {}
      },
      "source": [
        "# initiate the problem statement\n",
        "prob = LpProblem(\"Natural Disaster Relief\", LpMinimize)\n",
        "\n",
        "# create the variables\n",
        "y1 = LpVariable(\"First Aid shipments from DC1 to Earthquake\", 0, None, LpInteger)\n",
        "y2 = LpVariable(\"First Aid shipments from DC1 to Tsunami\", 0, None, LpInteger)\n",
        "y3 = LpVariable(\"First Aid shipments from DC2 to Earthquake\", 0, None, LpInteger)\n",
        "y4 = LpVariable(\"First Aid shipments from DC2 to Tsunami\", 0, None, LpInteger)\n",
        "\n",
        "# create the objective function \n",
        "prob += 240*y1 + 320*y2 + 440*y3 + 180*y4\n",
        "\n",
        "# create the constraints\n",
        "prob += y1 + y2 <= 10, \"DC1 has 10 shipping containers of First Aid supplies\"\n",
        "prob += y3 + y4 <= 4, \"DC2 has 4 shipping containers of First Aid supplies\"\n",
        "prob += y1 + y3 >= 8, \"8 containers of supplies needed for Earthquake Relief\"\n",
        "prob += y2 + y4 >= 6, \"6 containers of supplies needed for Tsunami Relief\"\n",
        "\n",
        "# solve the problem\n",
        "prob.solve()\n",
        "\n",
        "# print each variable with its optimal value\n",
        "for v in prob.variables():\n",
        "  print(v.name, \"=\", v.varValue)\n",
        "\n",
        "# print the optimized objective function value \n",
        "print(\"\\nMinimized total transit distance = \", value(prob.objective),\"miles\")"
      ],
      "execution_count": 0,
      "outputs": []
    },
    {
      "cell_type": "markdown",
      "metadata": {
        "id": "OczgwI_0eJP_",
        "colab_type": "text"
      },
      "source": [
        "## Prepare for LP formula\n",
        "\n",
        "\n",
        "The data needs to be transformed slightly differently for PuLP to work with it.\n",
        "\n",
        "\n",
        "<br>\n",
        "\n",
        "$P_{ij} = Points\\ Player\\ Scores$\n",
        "\n",
        "<br>\n",
        "\n",
        "$C_{ij} = Cost\\ of\\ Player$\n",
        "\n",
        "<br>"
      ]
    },
    {
      "cell_type": "code",
      "metadata": {
        "id": "PjBkv79gnUgk",
        "colab_type": "code",
        "colab": {}
      },
      "source": [
        "# create 2 dictionaries: one containing the salaries of each player, the other containing the points of each player\n",
        "\n",
        "# Cost of Player (C_ij)\n",
        "salaries = {} \n",
        "\n",
        "# Points of Player (P_ij)\n",
        "points = {} \n",
        "\n",
        "# loop through each position and appened player name, salary, points to correct dictionary\n",
        "for pos in availables[\"position\"].unique():\n",
        "    available_pos = availables[availables[\"position\"] == pos]\n",
        "    salary = list(available_pos[[\"displayName\",\"salary\"]].set_index(\"displayName\").to_dict().values())[0]\n",
        "    point = list(available_pos[[\"displayName\",\"points\"]].set_index(\"displayName\").to_dict().values())[0]\n",
        "    salaries[pos] = salary\n",
        "    points[pos] = point"
      ],
      "execution_count": 0,
      "outputs": []
    },
    {
      "cell_type": "markdown",
      "metadata": {
        "id": "5reQ2EmE0Sw5",
        "colab_type": "text"
      },
      "source": [
        "## Position Constraints\n",
        "\n",
        "<br>\n",
        "\n",
        "$$\\ \\ \\ \\ \\ \\ \\ \\ \\ \\ \\ \\ \\ \\ \\ \\ \\ \\ \\ \\ \\ \\ \\ \\ \\ \\ \\ \\ \\ \\ \\ \\sum_{j=1}^m x_{ij} =1, \\ \\ for\\ \\ i = QB$$\n",
        "\n",
        "\n",
        "$$\\ \\ \\ \\ \\ \\ \\ \\ \\ \\ \\ \\ \\ \\ \\ \\ \\ \\ \\ \\ \\ \\ \\ \\ \\ \\ \\ \\ \\ \\ \\ \\ \\sum_{j=1}^m x_{ij}  =2, \\ \\ for\\ \\ i = RB$$\n",
        "\n",
        "$$\\ \\ \\ \\ \\ \\ \\ \\ \\ \\ \\ \\ \\ \\ \\ \\ \\ \\ \\ \\ \\ \\ \\ \\ \\ \\ \\ \\ \\ \\ \\ \\ \\ \\ \\sum_{j=1}^m x_{ij} =3, \\ \\ for\\ \\ i = WR$$\n",
        "\n",
        "$$\\ \\ \\ \\ \\ \\ \\ \\ \\ \\ \\ \\ \\ \\ \\ \\ \\ \\ \\ \\ \\ \\ \\ \\ \\ \\ \\ \\ \\ \\ \\ \\ \\sum_{j=1}^m x_{ij} =1, \\ \\ for\\ \\ i = TE$$\n",
        "\n",
        "$$\\ \\ \\ \\ \\ \\ \\ \\ \\ \\ \\ \\ \\ \\ \\ \\ \\ \\ \\ \\ \\ \\ \\ \\ \\ \\ \\ \\ \\ \\ \\ \\ \\ \\ \\ \\ \\ \\ \\sum_{j=1}^m x_{ij} =1, \\ \\ for\\ \\ i = FLEX$$\n",
        "\n",
        "$$\\ \\ \\ \\ \\ \\ \\ \\ \\ \\ \\ \\ \\ \\ \\ \\ \\ \\ \\ \\ \\ \\ \\ \\ \\ \\ \\ \\ \\ \\ \\ \\ \\ \\ \\ \\sum_{j=1}^m x_{ij} =1, \\ \\ for\\ \\ i = DST$$\n",
        "\n",
        "<br>\n",
        "\n",
        "Flex position can be either a RB, WR, or TE. \n",
        "\n",
        "We will run 3 iterations with the flex being each on of these positions."
      ]
    },
    {
      "cell_type": "code",
      "metadata": {
        "id": "CxmoYeiKnc2z",
        "colab_type": "code",
        "colab": {}
      },
      "source": [
        "# Position Constraints\n",
        "pos_num_available = {\n",
        "    \"QB\": 1,\n",
        "    \"RB\": 2,\n",
        "    \"WR\": 3,\n",
        "    \"TE\": 2,\n",
        "    \"DST\": 1\n",
        "}"
      ],
      "execution_count": 0,
      "outputs": []
    },
    {
      "cell_type": "code",
      "metadata": {
        "id": "81t-4fUtmtFw",
        "colab_type": "code",
        "colab": {}
      },
      "source": [
        "# Max Salary limit\n",
        "SALARY_CAP = 50000"
      ],
      "execution_count": 0,
      "outputs": []
    },
    {
      "cell_type": "markdown",
      "metadata": {
        "id": "gmbZIlJP1GTS",
        "colab_type": "text"
      },
      "source": [
        "## Create Player Variables\n",
        "\n",
        "<br>\n",
        "\n",
        "$x_{ij} = Player$\n",
        "\n",
        "\n",
        "<br>"
      ]
    },
    {
      "cell_type": "code",
      "metadata": {
        "id": "RIXt9U63oIPi",
        "colab_type": "code",
        "colab": {}
      },
      "source": [
        "# Create the variables\n",
        "_vars = {k: LpVariable.dict(k, v, cat=\"Binary\") for k, v in points.items()}"
      ],
      "execution_count": 0,
      "outputs": []
    },
    {
      "cell_type": "markdown",
      "metadata": {
        "id": "sYBi7yw9flZ3",
        "colab_type": "text"
      },
      "source": [
        "## Solve Problem"
      ]
    },
    {
      "cell_type": "code",
      "metadata": {
        "id": "4VYCamjuk2vb",
        "colab_type": "code",
        "colab": {}
      },
      "source": [
        "# initialize the problem statement (Maximize)\n",
        "prob = LpProblem(\"Fantasy Football Lineup\", LpMaximize)\n",
        "\n",
        "# initialize lists to hold constraints\n",
        "score = []\n",
        "salary = []\n",
        "\n",
        "# Setting up the reward\n",
        "for k, v in _vars.items():\n",
        "    salary += lpSum([salaries[k][i] * _vars[k][i] for i in v])\n",
        "    score += lpSum([points[k][i] * _vars[k][i] for i in v])\n",
        "    prob += lpSum([_vars[k][i] for i in v]) <= pos_num_available[k]\n",
        "    \n",
        "\n",
        "# Salary Constraint\n",
        "prob += lpSum(salary) <= SALARY_CAP\n",
        "    \n",
        "# Objective Function\n",
        "prob += lpSum(score)"
      ],
      "execution_count": 0,
      "outputs": []
    },
    {
      "cell_type": "code",
      "metadata": {
        "id": "ZA2acf4e6hLb",
        "colab_type": "code",
        "outputId": "8ca92042-9fbf-4870-bf60-2a5f5663517a",
        "colab": {
          "base_uri": "https://localhost:8080/",
          "height": 34
        }
      },
      "source": [
        "prob.solve()"
      ],
      "execution_count": 0,
      "outputs": [
        {
          "output_type": "execute_result",
          "data": {
            "text/plain": [
              "1"
            ]
          },
          "metadata": {
            "tags": []
          },
          "execution_count": 49
        }
      ]
    },
    {
      "cell_type": "code",
      "metadata": {
        "id": "sWbUYW2E6j_o",
        "colab_type": "code",
        "colab": {}
      },
      "source": [
        "# my beautiful function to display the results of our LP\n",
        "def summary(prob):\n",
        "    div = '\\n-----------------------------------------\\n'\n",
        "    print(\"\\n-----------------------------------------\")\n",
        "    print(\"Linear Programming Optimization Solution:\")\n",
        "    print(\"-----------------------------------------\\n\")\n",
        "    print(\"Variables:\\n\")\n",
        "    score = str(prob.objective)\n",
        "    constraints = [str(const) for const in prob.constraints.values()]\n",
        "    for v in prob.variables():\n",
        "        score = score.replace(v.name, str(v.varValue))\n",
        "        constraints = [const.replace(v.name, str(v.varValue)) for const in constraints]\n",
        "        if v.varValue != 0:\n",
        "            print(v.name, \"=\", v.varValue)\n",
        "    print(div)\n",
        "    print(\"Salary:\\n\")\n",
        "    for constraint in constraints:\n",
        "        constraint_pretty = \" + \".join(re.findall(\"[0-9\\.]*\\*1.0\", constraint))\n",
        "        if constraint_pretty != \"\":\n",
        "            print(\"{} = {}\".format(constraint_pretty, eval(constraint_pretty)))\n",
        "    print(div)\n",
        "    print(\"Score:\\n\")\n",
        "    score_pretty = \" + \".join(re.findall(\"[0-9\\.]+\\*1.0\", score))\n",
        "    print(\"{} = {}\".format(score_pretty, eval(score)))\n",
        "    print(div)\n",
        "    print(\"Total Cost:  ${}\".format(round(eval(constraint_pretty))))\n",
        "    print(\"Total Points: {}\\n\".format(round(eval(score))))"
      ],
      "execution_count": 0,
      "outputs": []
    },
    {
      "cell_type": "code",
      "metadata": {
        "id": "lv4K2BXy6li3",
        "colab_type": "code",
        "outputId": "be3684f3-6418-4aee-e3cb-728ba14dedca",
        "colab": {
          "base_uri": "https://localhost:8080/",
          "height": 595
        }
      },
      "source": [
        "summary(prob)"
      ],
      "execution_count": 0,
      "outputs": [
        {
          "output_type": "stream",
          "text": [
            "\n",
            "-----------------------------------------\n",
            "Linear Programming Optimization Solution:\n",
            "-----------------------------------------\n",
            "\n",
            "Variables:\n",
            "\n",
            "DST_Bears_ = 1.0\n",
            "QB_Patrick_Mahomes = 1.0\n",
            "RB_Alvin_Kamara = 1.0\n",
            "RB_Melvin_Gordon_III = 1.0\n",
            "TE_George_Kittle = 1.0\n",
            "TE_Jared_Cook = 1.0\n",
            "WR_Golden_Tate = 1.0\n",
            "WR_Keke_Coutee = 1.0\n",
            "WR_Tyler_Boyd = 1.0\n",
            "\n",
            "-----------------------------------------\n",
            "\n",
            "Salary:\n",
            "\n",
            "2600*1.0 + 6800*1.0 + 9600*1.0 + 8300*1.0 + 4200*1.0 + 4100*1.0 + 6600*1.0 + 3000*1.0 + 4600*1.0 = 49800.0\n",
            "\n",
            "-----------------------------------------\n",
            "\n",
            "Score:\n",
            "\n",
            "14.5*1.0 + 31.1*1.0 + 36.3*1.0 + 27.9*1.0 + 15.2*1.0 + 20.3*1.0 + 23.0*1.0 + 24.7*1.0 + 19.9*1.0 = 212.9\n",
            "\n",
            "-----------------------------------------\n",
            "\n",
            "Total Cost:  $49800\n",
            "Total Points: 213\n",
            "\n"
          ],
          "name": "stdout"
        }
      ]
    },
    {
      "cell_type": "markdown",
      "metadata": {
        "id": "9ZJmM7ySy8WF",
        "colab_type": "text"
      },
      "source": [
        "## Flex Postion = RB"
      ]
    },
    {
      "cell_type": "code",
      "metadata": {
        "id": "lcIGfzH83Zw7",
        "colab_type": "code",
        "outputId": "538c562c-23a1-466a-c244-76578ce2afca",
        "colab": {
          "base_uri": "https://localhost:8080/",
          "height": 595
        }
      },
      "source": [
        "# salary and points\n",
        "salaries = {} \n",
        "points = {} \n",
        "for pos in availables[\"position\"].unique():\n",
        "    available_pos = availables[availables[\"position\"] == pos]\n",
        "    salary = list(available_pos[[\"displayName\",\"salary\"]].set_index(\"displayName\").to_dict().values())[0]\n",
        "    point = list(available_pos[[\"displayName\",\"points\"]].set_index(\"displayName\").to_dict().values())[0]\n",
        "    salaries[pos] = salary\n",
        "    points[pos] = point\n",
        "\n",
        "# Max Salary limit\n",
        "SALARY_CAP = 50000\n",
        "\n",
        "\n",
        "# Position Constraints\n",
        "pos_num_available = {\n",
        "    \"QB\": 1,\n",
        "    \"RB\": 3, # FLEX POSITION = RB\n",
        "    \"WR\": 3, \n",
        "    \"TE\": 1, \n",
        "    \"DST\": 1\n",
        "}\n",
        "\n",
        "\n",
        "\n",
        "# initialize the problem statement (Maximize)\n",
        "prob = LpProblem(\"Fantasy Football Lineup\", LpMaximize)\n",
        "\n",
        "# Create the variables\n",
        "_vars = {k: LpVariable.dict(k, v, cat=\"Binary\") for k, v in points.items()}\n",
        "\n",
        "# initialize lists to hold constraints\n",
        "score = []\n",
        "salary = []\n",
        "\n",
        "# Setting up the reward\n",
        "for k, v in _vars.items():\n",
        "    salary += lpSum([salaries[k][i] * _vars[k][i] for i in v])\n",
        "    score += lpSum([points[k][i] * _vars[k][i] for i in v])\n",
        "    prob += lpSum([_vars[k][i] for i in v]) <= pos_num_available[k]\n",
        "    \n",
        "\n",
        "# Salary Constraint\n",
        "prob += lpSum(salary) <= SALARY_CAP\n",
        "    \n",
        "# Objective Function\n",
        "prob += lpSum(score)\n",
        "\n",
        "prob.solve()\n",
        "\n",
        "summary(prob)"
      ],
      "execution_count": 0,
      "outputs": [
        {
          "output_type": "stream",
          "text": [
            "\n",
            "-----------------------------------------\n",
            "Linear Programming Optimization Solution:\n",
            "-----------------------------------------\n",
            "\n",
            "Variables:\n",
            "\n",
            "DST_Bears_ = 1.0\n",
            "QB_Patrick_Mahomes = 1.0\n",
            "RB_Alvin_Kamara = 1.0\n",
            "RB_James_White = 1.0\n",
            "RB_Melvin_Gordon_III = 1.0\n",
            "TE_Jared_Cook = 1.0\n",
            "WR_Calvin_Ridley = 1.0\n",
            "WR_Keke_Coutee = 1.0\n",
            "WR_Tyler_Boyd = 1.0\n",
            "\n",
            "-----------------------------------------\n",
            "\n",
            "Salary:\n",
            "\n",
            "2600*1.0 + 6800*1.0 + 9600*1.0 + 5400*1.0 + 8300*1.0 + 4100*1.0 + 4900*1.0 + 3000*1.0 + 4600*1.0 = 49300.0\n",
            "\n",
            "-----------------------------------------\n",
            "\n",
            "Score:\n",
            "\n",
            "14.5*1.0 + 31.1*1.0 + 36.3*1.0 + 19.1*1.0 + 27.9*1.0 + 20.3*1.0 + 20.4*1.0 + 24.7*1.0 + 19.9*1.0 = 214.20000000000002\n",
            "\n",
            "-----------------------------------------\n",
            "\n",
            "Total Cost:  $49300\n",
            "Total Points: 214\n",
            "\n"
          ],
          "name": "stdout"
        }
      ]
    },
    {
      "cell_type": "markdown",
      "metadata": {
        "id": "W15aY57AzDV4",
        "colab_type": "text"
      },
      "source": [
        "## Flex Postion = WR"
      ]
    },
    {
      "cell_type": "code",
      "metadata": {
        "id": "bUk0HVeV3SU9",
        "colab_type": "code",
        "outputId": "243722fe-cc8f-4a33-a03b-cd0342399882",
        "colab": {
          "base_uri": "https://localhost:8080/",
          "height": 595
        }
      },
      "source": [
        "# salary and points\n",
        "salaries = {} \n",
        "points = {} \n",
        "for pos in availables[\"position\"].unique():\n",
        "    available_pos = availables[availables[\"position\"] == pos]\n",
        "    salary = list(available_pos[[\"displayName\",\"salary\"]].set_index(\"displayName\").to_dict().values())[0]\n",
        "    point = list(available_pos[[\"displayName\",\"points\"]].set_index(\"displayName\").to_dict().values())[0]\n",
        "    salaries[pos] = salary\n",
        "    points[pos] = point\n",
        "\n",
        "# Max Salary limit\n",
        "SALARY_CAP = 50000\n",
        "\n",
        "\n",
        "# Position Constraints\n",
        "pos_num_available = {\n",
        "    \"QB\": 1,\n",
        "    \"RB\": 2,\n",
        "    \"WR\": 4, # FLEX POSITION = WR\n",
        "    \"TE\": 1, \n",
        "    \"DST\": 1\n",
        "}\n",
        "\n",
        "\n",
        "\n",
        "# initialize the problem statement (Maximize)\n",
        "prob = LpProblem(\"Fantasy Football Lineup\", LpMaximize)\n",
        "\n",
        "# Create the variables\n",
        "_vars = {k: LpVariable.dict(k, v, cat=\"Binary\") for k, v in points.items()}\n",
        "\n",
        "# initialize lists to hold constraints\n",
        "score = []\n",
        "salary = []\n",
        "\n",
        "# Setting up the reward\n",
        "for k, v in _vars.items():\n",
        "    salary += lpSum([salaries[k][i] * _vars[k][i] for i in v])\n",
        "    score += lpSum([points[k][i] * _vars[k][i] for i in v])\n",
        "    prob += lpSum([_vars[k][i] for i in v]) <= pos_num_available[k]\n",
        "    \n",
        "\n",
        "# Salary Constraint\n",
        "prob += lpSum(salary) <= SALARY_CAP\n",
        "    \n",
        "# Objective Function\n",
        "prob += lpSum(score)\n",
        "\n",
        "prob.solve()\n",
        "\n",
        "summary(prob)"
      ],
      "execution_count": 0,
      "outputs": [
        {
          "output_type": "stream",
          "text": [
            "\n",
            "-----------------------------------------\n",
            "Linear Programming Optimization Solution:\n",
            "-----------------------------------------\n",
            "\n",
            "Variables:\n",
            "\n",
            "DST_Bears_ = 1.0\n",
            "QB_Patrick_Mahomes = 1.0\n",
            "RB_Alvin_Kamara = 1.0\n",
            "RB_Melvin_Gordon_III = 1.0\n",
            "TE_Jared_Cook = 1.0\n",
            "WR_Calvin_Ridley = 1.0\n",
            "WR_DeSean_Jackson = 1.0\n",
            "WR_Keke_Coutee = 1.0\n",
            "WR_Tyler_Boyd = 1.0\n",
            "\n",
            "-----------------------------------------\n",
            "\n",
            "Salary:\n",
            "\n",
            "2600*1.0 + 6800*1.0 + 9600*1.0 + 8300*1.0 + 4100*1.0 + 4900*1.0 + 5700*1.0 + 3000*1.0 + 4600*1.0 = 49600.0\n",
            "\n",
            "-----------------------------------------\n",
            "\n",
            "Score:\n",
            "\n",
            "14.5*1.0 + 31.1*1.0 + 36.3*1.0 + 27.9*1.0 + 20.3*1.0 + 20.4*1.0 + 21.6*1.0 + 24.7*1.0 + 19.9*1.0 = 216.70000000000002\n",
            "\n",
            "-----------------------------------------\n",
            "\n",
            "Total Cost:  $49600\n",
            "Total Points: 217\n",
            "\n"
          ],
          "name": "stdout"
        }
      ]
    },
    {
      "cell_type": "markdown",
      "metadata": {
        "id": "gVYCdxEWzEsl",
        "colab_type": "text"
      },
      "source": [
        "## Flex Postion = TE"
      ]
    },
    {
      "cell_type": "code",
      "metadata": {
        "id": "HCY9ZsCmzBIF",
        "colab_type": "code",
        "outputId": "2e2f79de-e1d8-4891-9d24-8dca93a4f10e",
        "colab": {
          "base_uri": "https://localhost:8080/",
          "height": 595
        }
      },
      "source": [
        "# salary and points\n",
        "salaries = {} \n",
        "points = {} \n",
        "for pos in availables[\"position\"].unique():\n",
        "    available_pos = availables[availables[\"position\"] == pos]\n",
        "    salary = list(available_pos[[\"displayName\",\"salary\"]].set_index(\"displayName\").to_dict().values())[0]\n",
        "    point = list(available_pos[[\"displayName\",\"points\"]].set_index(\"displayName\").to_dict().values())[0]\n",
        "    salaries[pos] = salary\n",
        "    points[pos] = point\n",
        "\n",
        "# Max Salary limit\n",
        "SALARY_CAP = 50000\n",
        "\n",
        "\n",
        "# Position Constraints\n",
        "pos_num_available = {\n",
        "    \"QB\": 1,\n",
        "    \"RB\": 2,\n",
        "    \"WR\": 3,\n",
        "    \"TE\": 2, # FLEX POSITION = TE\n",
        "    \"DST\": 1\n",
        "}\n",
        "\n",
        "\n",
        "\n",
        "# initialize the problem statement (Maximize)\n",
        "prob = LpProblem(\"Fantasy Football Lineup\", LpMaximize)\n",
        "\n",
        "# Create the variables\n",
        "_vars = {k: LpVariable.dict(k, v, cat=\"Binary\") for k, v in points.items()}\n",
        "\n",
        "# initialize lists to hold constraints\n",
        "score = []\n",
        "salary = []\n",
        "\n",
        "# Setting up the reward\n",
        "for k, v in _vars.items():\n",
        "    salary += lpSum([salaries[k][i] * _vars[k][i] for i in v])\n",
        "    score += lpSum([points[k][i] * _vars[k][i] for i in v])\n",
        "    prob += lpSum([_vars[k][i] for i in v]) <= pos_num_available[k]\n",
        "    \n",
        "\n",
        "# Salary Constraint\n",
        "prob += lpSum(salary) <= SALARY_CAP\n",
        "    \n",
        "# Objective Function\n",
        "prob += lpSum(score)\n",
        "\n",
        "prob.solve()\n",
        "\n",
        "summary(prob)"
      ],
      "execution_count": 0,
      "outputs": [
        {
          "output_type": "stream",
          "text": [
            "\n",
            "-----------------------------------------\n",
            "Linear Programming Optimization Solution:\n",
            "-----------------------------------------\n",
            "\n",
            "Variables:\n",
            "\n",
            "DST_Bears_ = 1.0\n",
            "QB_Patrick_Mahomes = 1.0\n",
            "RB_Alvin_Kamara = 1.0\n",
            "RB_Melvin_Gordon_III = 1.0\n",
            "TE_George_Kittle = 1.0\n",
            "TE_Jared_Cook = 1.0\n",
            "WR_Golden_Tate = 1.0\n",
            "WR_Keke_Coutee = 1.0\n",
            "WR_Tyler_Boyd = 1.0\n",
            "\n",
            "-----------------------------------------\n",
            "\n",
            "Salary:\n",
            "\n",
            "2600*1.0 + 6800*1.0 + 9600*1.0 + 8300*1.0 + 4200*1.0 + 4100*1.0 + 6600*1.0 + 3000*1.0 + 4600*1.0 = 49800.0\n",
            "\n",
            "-----------------------------------------\n",
            "\n",
            "Score:\n",
            "\n",
            "14.5*1.0 + 31.1*1.0 + 36.3*1.0 + 27.9*1.0 + 15.2*1.0 + 20.3*1.0 + 23.0*1.0 + 24.7*1.0 + 19.9*1.0 = 212.9\n",
            "\n",
            "-----------------------------------------\n",
            "\n",
            "Total Cost:  $49800\n",
            "Total Points: 213\n",
            "\n"
          ],
          "name": "stdout"
        }
      ]
    },
    {
      "cell_type": "markdown",
      "metadata": {
        "id": "zXnTAEZn4Xyt",
        "colab_type": "text"
      },
      "source": [
        "# Check Results against Actuals\n",
        "\n",
        "\n",
        "https://rotogrinders.com/resultsdb/site/draftkings/date/2018-09-30/sport/nfl/slate/5bb10388ed767f5afae3935e\n",
        "\n",
        "\n",
        "![Results](https://raw.githubusercontent.com/papagorgio23/Python101/master/Sept%2030%20DFS%20Results.png)"
      ]
    }
  ]
}